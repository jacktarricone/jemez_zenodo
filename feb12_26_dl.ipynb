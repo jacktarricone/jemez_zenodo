{
 "cells": [
  {
   "cell_type": "code",
   "execution_count": null,
   "metadata": {},
   "outputs": [],
   "source": [
    "# download JPL processed 12-26 Jemez data\n",
    "# jack tarricone\n",
    "# january 10th, 2023\n",
    "from uavsar_pytools import UavsarImage"
   ]
  },
  {
   "cell_type": "code",
   "execution_count": null,
   "metadata": {},
   "outputs": [],
   "source": [
    "# HH\n",
    "saving_location_hh = '/Users/jacktarricone/ch1_jemez/feb12-26/HH/'"
   ]
  },
  {
   "cell_type": "code",
   "execution_count": null,
   "metadata": {},
   "outputs": [],
   "source": [
    "# define urls\n",
    "int_url_hh = 'https://downloaduav.jpl.nasa.gov/Release2x/alamos_35915_20005-003_20013-000_0014d_s01_L090_01/alamos_35915_20005-003_20013-000_0014d_s01_L090HH_01.int.grd'\n",
    "unw_url_hh = 'https://downloaduav.jpl.nasa.gov/Release2x/alamos_35915_20005-003_20013-000_0014d_s01_L090_01/alamos_35915_20005-003_20013-000_0014d_s01_L090HH_01.unw.grd'\n",
    "cor_url_hh = 'https://downloaduav.jpl.nasa.gov/Release2x/alamos_35915_20005-003_20013-000_0014d_s01_L090_01/alamos_35915_20005-003_20013-000_0014d_s01_L090HH_01.cor.grd'"
   ]
  },
  {
   "cell_type": "code",
   "execution_count": null,
   "metadata": {},
   "outputs": [],
   "source": [
    "# interferogram hh\n",
    "int_rast_hh = UavsarImage(url = int_url_hh, work_dir = saving_location_hh)\n",
    "int_rast_hh.url_to_tiff()"
   ]
  },
  {
   "cell_type": "code",
   "execution_count": null,
   "metadata": {},
   "outputs": [],
   "source": [
    "# unwrapped phase HH\n",
    "unw_rast_hh = UavsarImage(url = unw_url_hh, work_dir = saving_location_hh)\n",
    "unw_rast_hh.url_to_tiff()"
   ]
  },
  {
   "cell_type": "code",
   "execution_count": null,
   "metadata": {},
   "outputs": [],
   "source": [
    "# coherence HH\n",
    "cor_rast_hh = UavsarImage(url = cor_url_hh, work_dir = saving_location_hh)\n",
    "cor_rast_hh.url_to_tiff()"
   ]
  },
  {
   "cell_type": "code",
   "execution_count": null,
   "metadata": {},
   "outputs": [],
   "source": [
    "# VV\n",
    "saving_location_vv = '/Users/jacktarricone/ch1_jemez/feb12-26/VV/'"
   ]
  },
  {
   "cell_type": "code",
   "execution_count": null,
   "metadata": {},
   "outputs": [],
   "source": [
    "# define urls\n",
    "int_url_vv = 'https://downloaduav.jpl.nasa.gov/Release2x/alamos_35915_20005-003_20013-000_0014d_s01_L090_01/alamos_35915_20005-003_20013-000_0014d_s01_L090VV_01.int.grd'\n",
    "unw_url_vv = 'https://downloaduav.jpl.nasa.gov/Release2x/alamos_35915_20005-003_20013-000_0014d_s01_L090_01/alamos_35915_20005-003_20013-000_0014d_s01_L090VV_01.unw.grd'\n",
    "cor_url_vv = 'https://downloaduav.jpl.nasa.gov/Release2x/alamos_35915_20005-003_20013-000_0014d_s01_L090_01/alamos_35915_20005-003_20013-000_0014d_s01_L090VV_01.cor.grd'"
   ]
  },
  {
   "cell_type": "code",
   "execution_count": null,
   "metadata": {},
   "outputs": [],
   "source": [
    "# interferogram VV\n",
    "int_rast_vv = UavsarImage(url = int_url_vv, work_dir = saving_location_vv)\n",
    "int_rast_vv.url_to_tiff()"
   ]
  },
  {
   "cell_type": "code",
   "execution_count": null,
   "metadata": {},
   "outputs": [],
   "source": [
    "# unwrapped phase VV\n",
    "unw_rast_vv = UavsarImage(url = unw_url_vv, work_dir = saving_location_vv)\n",
    "unw_rast_vv.url_to_tiff()"
   ]
  },
  {
   "cell_type": "code",
   "execution_count": null,
   "metadata": {},
   "outputs": [],
   "source": [
    "# coherence VV\n",
    "cor_rast_vv = UavsarImage(url = cor_url_vv, work_dir = saving_location_vv)\n",
    "cor_rast_vv.url_to_tiff()"
   ]
  },
  {
   "cell_type": "code",
   "execution_count": null,
   "metadata": {},
   "outputs": [],
   "source": []
  }
 ],
 "metadata": {
  "interpreter": {
   "hash": "f6a401748561ccf4b02a2d1eb7d5bf189979b8ae4107867c67e9029bf7aa348c"
  },
  "kernelspec": {
   "display_name": "uavsar_pytools",
   "language": "python",
   "name": "uavsar_pytools"
  },
  "language_info": {
   "codemirror_mode": {
    "name": "ipython",
    "version": 3
   },
   "file_extension": ".py",
   "mimetype": "text/x-python",
   "name": "python",
   "nbconvert_exporter": "python",
   "pygments_lexer": "ipython3",
   "version": "3.10.5"
  }
 },
 "nbformat": 4,
 "nbformat_minor": 4
}
