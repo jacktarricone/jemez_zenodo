{
 "cells": [
  {
   "cell_type": "code",
   "execution_count": 4,
   "metadata": {},
   "outputs": [],
   "source": [
    "# download JPL processed 12-26 Jemez data\n",
    "# jack tarricone\n",
    "# january 10th, 2023\n",
    "from uavsar_pytools import UavsarImage"
   ]
  },
  {
   "cell_type": "code",
   "execution_count": 2,
   "metadata": {},
   "outputs": [],
   "source": [
    "# HH\n",
    "saving_location_hh = '/Users/jacktarricone/ch1_jemez/feb12-26/HH/'"
   ]
  },
  {
   "cell_type": "code",
   "execution_count": 3,
   "metadata": {},
   "outputs": [],
   "source": [
    "# define urls\n",
    "int_url_hh = 'https://downloaduav.jpl.nasa.gov/Release2x/alamos_35915_20005-003_20013-000_0014d_s01_L090_01/alamos_35915_20005-003_20013-000_0014d_s01_L090HH_01.int.grd'\n",
    "unw_url_hh = 'https://downloaduav.jpl.nasa.gov/Release2x/alamos_35915_20005-003_20013-000_0014d_s01_L090_01/alamos_35915_20005-003_20013-000_0014d_s01_L090HH_01.unw.grd'\n",
    "cor_url_hh = 'https://downloaduav.jpl.nasa.gov/Release2x/alamos_35915_20005-003_20013-000_0014d_s01_L090_01/alamos_35915_20005-003_20013-000_0014d_s01_L090HH_01.cor.grd'"
   ]
  },
  {
   "cell_type": "code",
   "execution_count": 6,
   "metadata": {},
   "outputs": [
    {
     "data": {
      "application/vnd.jupyter.widget-view+json": {
       "model_id": "b12658b409fa43919e2eaa18473c632d",
       "version_major": 2,
       "version_minor": 0
      },
      "text/plain": [
       "Downloading alamos_35915_20005-003_20013-000_0014d_s01_L090HH_01.int.grd:   0%|          | 0.00/293M [00:00<?,…"
      ]
     },
     "metadata": {},
     "output_type": "display_data"
    },
    {
     "data": {
      "application/vnd.jupyter.widget-view+json": {
       "model_id": "5bac95002fff49b09654596a676b09d0",
       "version_major": 2,
       "version_minor": 0
      },
      "text/plain": [
       "Downloading alamos_35915_20005-003_20013-000_0014d_s01_L090HH_01.ann:   0%|          | 0.00/29.9k [00:00<?, ?B…"
      ]
     },
     "metadata": {},
     "output_type": "display_data"
    }
   ],
   "source": [
    "# interferogram hh\n",
    "int_rast_hh = UavsarImage(url = int_url_hh, work_dir = saving_location_hh)\n",
    "int_rast_hh.url_to_tiff()"
   ]
  },
  {
   "cell_type": "code",
   "execution_count": 7,
   "metadata": {},
   "outputs": [
    {
     "data": {
      "application/vnd.jupyter.widget-view+json": {
       "model_id": "c63ffbadc6204099b944eab5f9d01125",
       "version_major": 2,
       "version_minor": 0
      },
      "text/plain": [
       "Downloading alamos_35915_20005-003_20013-000_0014d_s01_L090HH_01.unw.grd:   0%|          | 0.00/147M [00:00<?,…"
      ]
     },
     "metadata": {},
     "output_type": "display_data"
    }
   ],
   "source": [
    "# unwrapped phase HH\n",
    "unw_rast_hh = UavsarImage(url = unw_url_hh, work_dir = saving_location_hh)\n",
    "unw_rast_hh.url_to_tiff()"
   ]
  },
  {
   "cell_type": "code",
   "execution_count": 8,
   "metadata": {},
   "outputs": [
    {
     "data": {
      "application/vnd.jupyter.widget-view+json": {
       "model_id": "07ef6bef3db54f4a96c0e008b84b20ef",
       "version_major": 2,
       "version_minor": 0
      },
      "text/plain": [
       "Downloading alamos_35915_20005-003_20013-000_0014d_s01_L090HH_01.cor.grd:   0%|          | 0.00/147M [00:00<?,…"
      ]
     },
     "metadata": {},
     "output_type": "display_data"
    }
   ],
   "source": [
    "# coherence HH\n",
    "cor_rast_hh = UavsarImage(url = cor_url_hh, work_dir = saving_location_hh)\n",
    "cor_rast_hh.url_to_tiff()"
   ]
  },
  {
   "cell_type": "code",
   "execution_count": 10,
   "metadata": {},
   "outputs": [],
   "source": [
    "# VV\n",
    "saving_location_vv = '/Users/jacktarricone/ch1_jemez/feb12-26/VV/'"
   ]
  },
  {
   "cell_type": "code",
   "execution_count": 11,
   "metadata": {},
   "outputs": [],
   "source": [
    "# define urls\n",
    "int_url_vv = 'https://downloaduav.jpl.nasa.gov/Release2x/alamos_35915_20005-003_20013-000_0014d_s01_L090_01/alamos_35915_20005-003_20013-000_0014d_s01_L090VV_01.int.grd'\n",
    "unw_url_vv = 'https://downloaduav.jpl.nasa.gov/Release2x/alamos_35915_20005-003_20013-000_0014d_s01_L090_01/alamos_35915_20005-003_20013-000_0014d_s01_L090VV_01.unw.grd'\n",
    "cor_url_vv = 'https://downloaduav.jpl.nasa.gov/Release2x/alamos_35915_20005-003_20013-000_0014d_s01_L090_01/alamos_35915_20005-003_20013-000_0014d_s01_L090VV_01.cor.grd'"
   ]
  },
  {
   "cell_type": "code",
   "execution_count": 12,
   "metadata": {},
   "outputs": [
    {
     "data": {
      "application/vnd.jupyter.widget-view+json": {
       "model_id": "b3c089a0bbc54332a9707b6cbb88f5f8",
       "version_major": 2,
       "version_minor": 0
      },
      "text/plain": [
       "Downloading alamos_35915_20005-003_20013-000_0014d_s01_L090VV_01.int.grd:   0%|          | 0.00/293M [00:00<?,…"
      ]
     },
     "metadata": {},
     "output_type": "display_data"
    },
    {
     "data": {
      "application/vnd.jupyter.widget-view+json": {
       "model_id": "dfdafee9d68247699218b13ada983f26",
       "version_major": 2,
       "version_minor": 0
      },
      "text/plain": [
       "Downloading alamos_35915_20005-003_20013-000_0014d_s01_L090VV_01.ann:   0%|          | 0.00/29.9k [00:00<?, ?B…"
      ]
     },
     "metadata": {},
     "output_type": "display_data"
    }
   ],
   "source": [
    "# interferogram VV\n",
    "int_rast_vv = UavsarImage(url = int_url_vv, work_dir = saving_location_vv)\n",
    "int_rast_vv.url_to_tiff()"
   ]
  },
  {
   "cell_type": "code",
   "execution_count": 14,
   "metadata": {},
   "outputs": [
    {
     "data": {
      "application/vnd.jupyter.widget-view+json": {
       "model_id": "388d0d2d144247ba89995aaf185c0a7e",
       "version_major": 2,
       "version_minor": 0
      },
      "text/plain": [
       "Downloading alamos_35915_20005-003_20013-000_0014d_s01_L090VV_01.unw.grd:   0%|          | 0.00/147M [00:00<?,…"
      ]
     },
     "metadata": {},
     "output_type": "display_data"
    }
   ],
   "source": [
    "# unwrapped phase VV\n",
    "unw_rast_vv = UavsarImage(url = unw_url_vv, work_dir = saving_location_vv)\n",
    "unw_rast_vv.url_to_tiff()"
   ]
  },
  {
   "cell_type": "code",
   "execution_count": 13,
   "metadata": {},
   "outputs": [
    {
     "data": {
      "application/vnd.jupyter.widget-view+json": {
       "model_id": "d8278ade737745aeba352366d9c52c07",
       "version_major": 2,
       "version_minor": 0
      },
      "text/plain": [
       "Downloading alamos_35915_20005-003_20013-000_0014d_s01_L090VV_01.cor.grd:   0%|          | 0.00/147M [00:00<?,…"
      ]
     },
     "metadata": {},
     "output_type": "display_data"
    }
   ],
   "source": [
    "# coherence VV\n",
    "cor_rast_vv = UavsarImage(url = cor_url_vv, work_dir = saving_location_vv)\n",
    "cor_rast_vv.url_to_tiff()"
   ]
  },
  {
   "cell_type": "code",
   "execution_count": null,
   "metadata": {},
   "outputs": [],
   "source": []
  }
 ],
 "metadata": {
  "interpreter": {
   "hash": "f6a401748561ccf4b02a2d1eb7d5bf189979b8ae4107867c67e9029bf7aa348c"
  },
  "kernelspec": {
   "display_name": "uavsar_pytools",
   "language": "python",
   "name": "uavsar_pytools"
  },
  "language_info": {
   "codemirror_mode": {
    "name": "ipython",
    "version": 3
   },
   "file_extension": ".py",
   "mimetype": "text/x-python",
   "name": "python",
   "nbconvert_exporter": "python",
   "pygments_lexer": "ipython3",
   "version": "3.10.5"
  }
 },
 "nbformat": 4,
 "nbformat_minor": 4
}
