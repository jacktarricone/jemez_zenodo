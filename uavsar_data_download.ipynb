{
 "cells": [
  {
   "cell_type": "code",
   "execution_count": 6,
   "metadata": {},
   "outputs": [],
   "source": [
    "# download jemez UAVSAR InSAR pairs\n",
    "# three dates: 12-19, 19-26, 12-26 February 2020\n",
    "# jack tarricone\n",
    "# march 2nd, 2023\n",
    "\n",
    "# import\n",
    "import os\n",
    "from uavsar_pytools import UavsarImage\n",
    "from uavsar_pytools import UavsarScene\n",
    "from uavsar_pytools import UavsarCollection"
   ]
  },
  {
   "cell_type": "code",
   "execution_count": 8,
   "metadata": {},
   "outputs": [],
   "source": [
    "# set home dir\n",
    "os.chdir('/Users/jacktarricone/ch1_jemez/')"
   ]
  },
  {
   "cell_type": "markdown",
   "metadata": {},
   "source": [
    "## InSAR Data"
   ]
  },
  {
   "cell_type": "code",
   "execution_count": 9,
   "metadata": {},
   "outputs": [],
   "source": [
    "# 12-19 february (p1)\n",
    "p1_url = 'https://datapool.asf.alaska.edu/INTERFEROMETRY_GRD/UA/alamos_35915_20005-003_20008-000_0007d_s01_L090_01_int_grd.zip'"
   ]
  },
  {
   "cell_type": "code",
   "execution_count": 11,
   "metadata": {},
   "outputs": [
    {
     "data": {
      "application/vnd.jupyter.widget-view+json": {
       "model_id": "8923d65eee0449fead347891acd99365",
       "version_major": 2,
       "version_minor": 0
      },
      "text/plain": [
       "Downloading alamos_35915_20005-003_20008-000_0007d_s01_L090_01_int_grd.zip:   0%|          | 0.00/1.60G [00:00…"
      ]
     },
     "metadata": {},
     "output_type": "display_data"
    },
    {
     "name": "stderr",
     "output_type": "stream",
     "text": [
      "Unzipping: 100%|██████████████████████████████| 10/10 [00:08<00:00,  1.12file/s]\n"
     ]
    }
   ],
   "source": [
    "# download co pols\n",
    "p1 = UavsarScene(url = p1_url, work_dir = './rasters/', pols = ['VV','HH'])\n",
    "p1.url_to_tiffs()"
   ]
  },
  {
   "cell_type": "code",
   "execution_count": 12,
   "metadata": {},
   "outputs": [],
   "source": [
    "# 19-26 february (p2)\n",
    "p2_url = 'https://datapool.asf.alaska.edu/INTERFEROMETRY_GRD/UA/alamos_35915_20008-000_20013-000_0007d_s01_L090_01_int_grd.zip'"
   ]
  },
  {
   "cell_type": "code",
   "execution_count": 13,
   "metadata": {},
   "outputs": [
    {
     "data": {
      "application/vnd.jupyter.widget-view+json": {
       "model_id": "c5b1cfbf5fe2477fb60c789997671884",
       "version_major": 2,
       "version_minor": 0
      },
      "text/plain": [
       "Downloading alamos_35915_20008-000_20013-000_0007d_s01_L090_01_int_grd.zip:   0%|          | 0.00/1.27G [00:00…"
      ]
     },
     "metadata": {},
     "output_type": "display_data"
    },
    {
     "name": "stderr",
     "output_type": "stream",
     "text": [
      "Unzipping: 100%|██████████████████████████████| 10/10 [00:06<00:00,  1.44file/s]\n"
     ]
    }
   ],
   "source": [
    "# download co pols\n",
    "p2 = UavsarScene(url = p2_url, work_dir = './rasters/', pols = ['VV','HH'])\n",
    "p2.url_to_tiffs()"
   ]
  },
  {
   "cell_type": "code",
   "execution_count": 16,
   "metadata": {},
   "outputs": [],
   "source": [
    "# 12-26 february (p3)\n",
    "p3_url = 'https://datapool.asf.alaska.edu/INTERFEROMETRY_GRD/UA/alamos_35915_20005-003_20013-000_0014d_s01_L090_01_int_grd.zip'"
   ]
  },
  {
   "cell_type": "code",
   "execution_count": 17,
   "metadata": {},
   "outputs": [
    {
     "name": "stderr",
     "output_type": "stream",
     "text": [
      "INFO:uavsar_pytools.convert.file_control:No files found to unzip. Check if polarizations exist.\n"
     ]
    }
   ],
   "source": [
    "# download co pols\n",
    "p3 = UavsarScene(url = p3_url, work_dir = './rasters/', pols = ['VV','HH'])\n",
    "p3.url_to_tiffs()"
   ]
  },
  {
   "cell_type": "markdown",
   "metadata": {},
   "source": [
    "## Amplitude Data\n",
    "\n",
    "Just need HH"
   ]
  },
  {
   "cell_type": "code",
   "execution_count": 25,
   "metadata": {},
   "outputs": [],
   "source": [
    "feb12_amp_url = 'https://uavsar.asfdaac.alaska.edu/UA_alamos_35915_20005-003_20008-000_0007d_s01_L090_01/alamos_35915_20005-003_20008-000_0007d_s01_L090HH_01.amp1.grd'\n",
    "feb19_amp_url = 'https://uavsar.asfdaac.alaska.edu/UA_alamos_35915_20008-000_20013-000_0007d_s01_L090_01/alamos_35915_20008-000_20013-000_0007d_s01_L090HH_01.amp1.grd'\n",
    "feb26_amp_url = 'https://uavsar.asfdaac.alaska.edu/UA_alamos_35915_20008-000_20013-000_0007d_s01_L090_01/alamos_35915_20008-000_20013-000_0007d_s01_L090HH_01.amp2.grd'"
   ]
  },
  {
   "cell_type": "code",
   "execution_count": null,
   "metadata": {},
   "outputs": [],
   "source": [
    "# feb 12\n",
    "feb12_amp = UavsarImage(url = feb12_amp_url, work_dir = './rasters/amplitude/linear/')\n",
    "feb12_amp.url_to_tiff()"
   ]
  },
  {
   "cell_type": "code",
   "execution_count": null,
   "metadata": {},
   "outputs": [],
   "source": [
    "# feb 19\n",
    "feb19_amp = UavsarImage(url = feb19_amp_url, work_dir = './rasters/amplitude/linear/')\n",
    "feb19_amp.url_to_tiff()"
   ]
  },
  {
   "cell_type": "code",
   "execution_count": null,
   "metadata": {},
   "outputs": [],
   "source": [
    "# feb 26\n",
    "feb26_amp = UavsarImage(url = feb26_amp_url, work_dir = './rasters/amplitude/linear/')\n",
    "feb26_amp.url_to_tiff()"
   ]
  },
  {
   "cell_type": "code",
   "execution_count": null,
   "metadata": {},
   "outputs": [],
   "source": []
  },
  {
   "cell_type": "code",
   "execution_count": null,
   "metadata": {},
   "outputs": [],
   "source": []
  }
 ],
 "metadata": {
  "interpreter": {
   "hash": "f6a401748561ccf4b02a2d1eb7d5bf189979b8ae4107867c67e9029bf7aa348c"
  },
  "kernelspec": {
   "display_name": "uavsar_pytools",
   "language": "python",
   "name": "uavsar_pytools"
  },
  "language_info": {
   "codemirror_mode": {
    "name": "ipython",
    "version": 3
   },
   "file_extension": ".py",
   "mimetype": "text/x-python",
   "name": "python",
   "nbconvert_exporter": "python",
   "pygments_lexer": "ipython3",
   "version": "3.10.5"
  }
 },
 "nbformat": 4,
 "nbformat_minor": 4
}
